{
 "cells": [
  {
   "cell_type": "code",
   "execution_count": 1,
   "id": "3e34e9e4",
   "metadata": {},
   "outputs": [],
   "source": [
    "from z3 import *"
   ]
  },
  {
   "cell_type": "markdown",
   "id": "ddeb1030",
   "metadata": {},
   "source": [
    "### Who took drugs"
   ]
  },
  {
   "cell_type": "code",
   "execution_count": 2,
   "id": "30ec4fc0",
   "metadata": {},
   "outputs": [],
   "source": [
    "guys = ['S', 'Mi', 'B', 'R', 'Ma']\n",
    "Said = [Bool(f'{i}_said') for i in guys]\n",
    "Drug = [Bool(f'{i}_drug') for i in guys]\n",
    "solver = Solver()"
   ]
  },
  {
   "cell_type": "code",
   "execution_count": 3,
   "id": "aa81a85c",
   "metadata": {},
   "outputs": [],
   "source": [
    "p0 = Xor(Drug[1], Drug[2])\n",
    "p1 = Xor(Drug[3], Drug[0])\n",
    "p2 = Xor(Drug[1], Drug[4])\n",
    "p3 = Xor(Drug[2], Drug[4])\n",
    "p4 = Xor(Drug[2], Drug[3])\n",
    "P = [p0, p1, p2, p3, p4]"
   ]
  },
  {
   "cell_type": "code",
   "execution_count": 4,
   "id": "fddf31e8",
   "metadata": {},
   "outputs": [],
   "source": [
    "Q = [Said[i] == P[i] for i in range(5)]\n",
    "said_four_true = PbEq([(said, True) for said in Said], 4)\n",
    "solver.add(Q)\n",
    "solver.add(said_four_true)"
   ]
  },
  {
   "cell_type": "code",
   "execution_count": 5,
   "id": "7e447f82",
   "metadata": {},
   "outputs": [
    {
     "data": {
      "text/html": [
       "[S_said = Xor(Mi_drug, B_drug),\n",
       " Mi_said = Xor(R_drug, S_drug),\n",
       " B_said = Xor(Mi_drug, Ma_drug),\n",
       " R_said = Xor(B_drug, Ma_drug),\n",
       " Ma_said = Xor(B_drug, R_drug),\n",
       " PbEq(((S_said, 1),\n",
       "       (Mi_said, 1),\n",
       "       (B_said, 1),\n",
       "       (R_said, 1),\n",
       "       (Ma_said, 1)),\n",
       "      4),\n",
       " R_drug &rArr; B_drug]"
      ],
      "text/plain": [
       "[S_said == Xor(Mi_drug, B_drug),\n",
       " Mi_said == Xor(R_drug, S_drug),\n",
       " B_said == Xor(Mi_drug, Ma_drug),\n",
       " R_said == Xor(B_drug, Ma_drug),\n",
       " Ma_said == Xor(B_drug, R_drug),\n",
       " PbEq(((S_said, 1),\n",
       "       (Mi_said, 1),\n",
       "       (B_said, 1),\n",
       "       (R_said, 1),\n",
       "       (Ma_said, 1)),\n",
       "      4),\n",
       " Implies(R_drug, B_drug)]"
      ]
     },
     "execution_count": 5,
     "metadata": {},
     "output_type": "execute_result"
    }
   ],
   "source": [
    "solver.add( Implies(Drug[3], Drug[2]) )\n",
    "solver"
   ]
  },
  {
   "cell_type": "code",
   "execution_count": 9,
   "id": "be2bb5ba",
   "metadata": {},
   "outputs": [
    {
     "name": "stdout",
     "output_type": "stream",
     "text": [
      "S_said: True\n",
      "Mi_said: True\n",
      "B_said: True\n",
      "R_said: False\n",
      "Ma_said: True\n",
      "S_drug: True\n",
      "Mi_drug: False\n",
      "B_drug: True\n",
      "R_drug: False\n",
      "Ma_drug: True\n"
     ]
    }
   ],
   "source": [
    "solver.check()\n",
    "m = solver.model()\n",
    "for said in Said:\n",
    "    print(f'{said}: {m[said]}')\n",
    "for drug in Drug:\n",
    "    print(f'{drug}: {m[drug]}')"
   ]
  },
  {
   "cell_type": "markdown",
   "id": "6fc558ce",
   "metadata": {},
   "source": [
    "### Which one contains salt"
   ]
  },
  {
   "cell_type": "code",
   "execution_count": 19,
   "id": "7a208506",
   "metadata": {},
   "outputs": [],
   "source": [
    "# True: still contrains salt; Flase: was replaced with sugar\n",
    "Salt = [Bool(f'salt_{i}') for i in range(4)]\n",
    "Note0 = Salt[0]\n",
    "Note1 = Salt[1]\n",
    "Note2 = Not(Salt[2])\n",
    "Note3 = Not(Salt[1])\n",
    "Note = [Note0, Note1, Note2, Note3]\n",
    "One_true = PbEq([(Note[i], True) for i in range(4)], 1)\n",
    "One_salt = PbEq([(Salt[i], True) for i in range(4)], 1)"
   ]
  },
  {
   "cell_type": "code",
   "execution_count": 20,
   "id": "371197bc",
   "metadata": {},
   "outputs": [
    {
     "data": {
      "text/html": [
       "<b>sat</b>"
      ],
      "text/plain": [
       "sat"
      ]
     },
     "execution_count": 20,
     "metadata": {},
     "output_type": "execute_result"
    }
   ],
   "source": [
    "solver = Solver()\n",
    "solver.add(One_true, One_salt)\n",
    "solver.check()"
   ]
  },
  {
   "cell_type": "code",
   "execution_count": 21,
   "id": "25844122",
   "metadata": {},
   "outputs": [
    {
     "name": "stdout",
     "output_type": "stream",
     "text": [
      "salt_0: False\n",
      "salt_1: False\n",
      "salt_2: True\n",
      "salt_3: False\n"
     ]
    }
   ],
   "source": [
    "m = solver.model()\n",
    "for salt in Salt:\n",
    "    print(f'{salt}: {m[salt]}')"
   ]
  },
  {
   "cell_type": "markdown",
   "id": "074d9f0c",
   "metadata": {},
   "source": [
    "### When is the birthday"
   ]
  },
  {
   "cell_type": "code",
   "execution_count": null,
   "id": "2308086b",
   "metadata": {},
   "outputs": [],
   "source": [
    "G = Int('George')\n",
    "W = Int('William')\n",
    "J = Int('John')\n",
    "A = Int('Abe')\n",
    "M = Int('Millard')\n",
    "guys = [G, W, J, A, M]"
   ]
  },
  {
   "cell_type": "code",
   "execution_count": 41,
   "id": "e56cfb68",
   "metadata": {},
   "outputs": [
    {
     "name": "stdout",
     "output_type": "stream",
     "text": [
      "George: 2\n",
      "William: 5\n",
      "John: 1\n",
      "Abe: 3\n",
      "Millard: 4\n"
     ]
    }
   ],
   "source": [
    "solver = Solver()\n",
    "for guy in guys:\n",
    "    solver.add(1 <= guy)\n",
    "    solver.add(guy <= 5)\n",
    "\n",
    "solver.add(Distinct(guys))\n",
    "\n",
    "# # Not necessarily in a week\n",
    "# solver.add((M - G)%7 == (W - A)%7)\n",
    "# solver.add((A - J)%7 == 2)\n",
    "# solver.add(M == 4)\n",
    "\n",
    "# Within a week \n",
    "solver.add((M - G) == (W - A), M >= G, W >= A)\n",
    "solver.add((A - J) == 2)\n",
    "solver.add(M == 4)\n",
    "\n",
    "solver.check()\n",
    "m = solver.model()\n",
    "for guy in guys:\n",
    "    print(f'{guy}: {m[guy]}')"
   ]
  },
  {
   "cell_type": "code",
   "execution_count": null,
   "id": "58841aad",
   "metadata": {},
   "outputs": [],
   "source": []
  }
 ],
 "metadata": {
  "kernelspec": {
   "display_name": "Python 3 (ipykernel)",
   "language": "python",
   "name": "python3"
  },
  "language_info": {
   "codemirror_mode": {
    "name": "ipython",
    "version": 3
   },
   "file_extension": ".py",
   "mimetype": "text/x-python",
   "name": "python",
   "nbconvert_exporter": "python",
   "pygments_lexer": "ipython3",
   "version": "3.9.7"
  }
 },
 "nbformat": 4,
 "nbformat_minor": 5
}
